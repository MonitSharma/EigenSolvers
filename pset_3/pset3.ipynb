{
 "cells": [
  {
   "cell_type": "markdown",
   "id": "849fc943",
   "metadata": {},
   "source": [
    "## PSET 3"
   ]
  },
  {
   "cell_type": "code",
   "execution_count": 32,
   "id": "da15bf3b",
   "metadata": {},
   "outputs": [],
   "source": [
    "import numpy as np\n",
    "\n",
    "from qiskit import QuantumCircuit, QuantumRegister, ClassicalRegister\n",
    "from qiskit import Aer, execute\n",
    "#from qiskit.tools.visualization import plot_state_city\n",
    "\n",
    "from qiskit.providers.aer import StatevectorSimulator\n",
    "\n",
    "statevector_sim = Aer.get_backend('statevector_simulator')"
   ]
  },
  {
   "cell_type": "markdown",
   "id": "65acf83d",
   "metadata": {},
   "source": [
    "### problem 1 Bell state circuits"
   ]
  },
  {
   "cell_type": "code",
   "execution_count": 33,
   "id": "f5ad1f55",
   "metadata": {},
   "outputs": [
    {
     "data": {
      "image/png": "[encoded data removed]",
      "text/plain": [
       "<Figure size 206.852x144.48 with 1 Axes>"
      ]
     },
     "metadata": {},
     "output_type": "display_data"
    }
   ],
   "source": [
    "qc = QuantumCircuit(2)\n",
    "\n",
    "\n",
    "\n",
    "qc.h(0)\n",
    "qc.cx(0,1)\n",
    "\n",
    "display(qc.draw('mpl'))\n",
    "\n"
   ]
  },
  {
   "cell_type": "code",
   "execution_count": 34,
   "id": "be16ca14",
   "metadata": {},
   "outputs": [],
   "source": [
    "bell_circ = qc.copy()"
   ]
  },
  {
   "cell_type": "code",
   "execution_count": 35,
   "id": "6aa3424d",
   "metadata": {},
   "outputs": [
    {
     "name": "stdout",
     "output_type": "stream",
     "text": [
      "Your circuit is correct, you can move forward.\n"
     ]
    }
   ],
   "source": [
    "match = []\n",
    "tolerance = 1e-4\n",
    "\n",
    "# Loop over every computational basis state\n",
    "for i in range(4):\n",
    "    circ = QuantumCircuit(2)\n",
    "    # Initialize the qubits\n",
    "    if (i%2 == 1):\n",
    "        circ.x(0)\n",
    "    if (i//2 == 1):\n",
    "        circ.x(1)\n",
    "    \n",
    "    circ.compose(bell_circ,inplace=True)\n",
    "    \n",
    "    result = execute(circ, statevector_sim).result()\n",
    "    statevector = result.get_statevector()\n",
    "    \n",
    "    # Flags for whether the output matches the desired output\n",
    "    if i==0:\n",
    "        match.append( np.linalg.norm(statevector - np.sqrt(0.5)*np.array([1,0,0,1])) < tolerance )\n",
    "    elif i==1:\n",
    "        match.append( np.linalg.norm(statevector - np.sqrt(0.5)*np.array([1,0,0,-1])) < tolerance )\n",
    "    elif i==2:\n",
    "        match.append( np.linalg.norm(statevector - np.sqrt(0.5)*np.array([0,1,1,0])) < tolerance )\n",
    "    elif i==3:\n",
    "        match.append( np.linalg.norm(statevector - np.sqrt(0.5)*np.array([0,-1,1,0])) < tolerance )\n",
    "        \n",
    "correct = True\n",
    "for m in match:\n",
    "    correct = correct and m\n",
    "\n",
    "if correct:\n",
    "    print(\"Your circuit is correct, you can move forward.\")\n",
    "else:\n",
    "    print(\"Your circuit is not correct, please check your work.\")"
   ]
  },
  {
   "cell_type": "markdown",
   "id": "d385466a",
   "metadata": {},
   "source": [
    "### Problem 2"
   ]
  },
  {
   "cell_type": "code",
   "execution_count": 36,
   "id": "c889261f",
   "metadata": {},
   "outputs": [
    {
     "data": {
      "image/png": "[encoded data removed]",
      "text/plain": [
       "<Figure size 366.775x325.08 with 1 Axes>"
      ]
     },
     "metadata": {},
     "output_type": "display_data"
    },
    {
     "data": {
      "image/png": "[encoded data removed]",
      "text/plain": [
       "<Figure size 487.175x325.08 with 1 Axes>"
      ]
     },
     "metadata": {},
     "output_type": "display_data"
    }
   ],
   "source": [
    "a = QuantumRegister(1) # Alice's qubit that forms half of the entangled pair\n",
    "b = QuantumRegister(1) # Bob's qubit that forms half of the entangled pair\n",
    "c = QuantumRegister(1) # Alice's qubit that is to be teleported\n",
    "\n",
    "# Classical Registers for Alice's measurements\n",
    "m1 = ClassicalRegister(1)\n",
    "m2 = ClassicalRegister(1)\n",
    "\n",
    "qc = QuantumCircuit(a,b,c,m1,m2)\n",
    "\n",
    "\n",
    "#display(qc.draw('mpl'))\n",
    "qc.append(bell_circ, [a,b])\n",
    "#display(qc.draw('mpl'))\n",
    "qc.cx(c,a)\n",
    "qc.h(c)\n",
    "display(qc.draw('mpl'))\n",
    "qc.measure(c,m1)\n",
    "qc.measure(a,m2)\n",
    "display(qc.draw('mpl'))\n",
    "qc.x(b).c_if(m2,1)\n",
    "qc.z(b).c_if(m1,1)\n",
    "\n",
    "\n",
    "telportation_circ = qc.copy()"
   ]
  },
  {
   "cell_type": "code",
   "execution_count": 37,
   "id": "1d5d21bf",
   "metadata": {},
   "outputs": [
    {
     "name": "stdout",
     "output_type": "stream",
     "text": [
      "Your circuit is correct, you can move forward.\n"
     ]
    }
   ],
   "source": [
    "circ = QuantumCircuit(a,b,c,m1,m2)\n",
    "\n",
    "# Generate a random vector\n",
    "random_state = np.random.rand(2)\n",
    "# Normalize the vector\n",
    "random_state = random_state / np.linalg.norm(random_state)\n",
    "\n",
    "# Initialize qubit c to this random vector\n",
    "circ.initialize(random_state,c)\n",
    "# Teleport the qubit to Bob\n",
    "circ.compose(telportation_circ,inplace=True)\n",
    "\n",
    "result = execute(circ, statevector_sim).result()\n",
    "final_state = result.get_statevector()\n",
    "\n",
    "correct = False\n",
    "\n",
    "# Loop to check all possible post measurement states:\n",
    "for i in [0,1,4,5]:\n",
    "    sub_array = np.array([final_state[i],final_state[i+2]])\n",
    "    if np.linalg.norm(sub_array) != 0:\n",
    "        if np.linalg.norm(random_state - sub_array) < tolerance:\n",
    "            correct = True\n",
    "            break\n",
    "\n",
    "if correct:\n",
    "    print(\"Your circuit is correct, you can move forward.\")\n",
    "else:\n",
    "    print(\"Your circuit is not correct, please check your work.\")\n"
   ]
  },
  {
   "cell_type": "code",
   "execution_count": null,
   "id": "a221b3fb",
   "metadata": {},
   "outputs": [],
   "source": []
  }
 ],
 "metadata": {
  "kernelspec": {
   "display_name": "quantum",
   "language": "python",
   "name": "quantum"
  },
  "language_info": {
   "codemirror_mode": {
    "name": "ipython",
    "version": 3
   },
   "file_extension": ".py",
   "mimetype": "text/x-python",
   "name": "python",
   "nbconvert_exporter": "python",
   "pygments_lexer": "ipython3",
   "version": "3.8.5"
  }
 },
 "nbformat": 4,
 "nbformat_minor": 5
}
